{
 "cells": [
  {
   "cell_type": "code",
   "execution_count": null,
   "metadata": {},
   "outputs": [],
   "source": [
    "from fastai import *\n",
    "from fastai.vision import *\n",
    "from dfs import *\n",
    "from metrics import *\n",
    "from efnet import EfficientNet\n",
    "from losses import qappa_loss, kapjhapLoss, kapjhapMse\n",
    "import warnings\n",
    "\n",
    "warnings.filterwarnings('ignore')"
   ]
  },
  {
   "cell_type": "code",
   "execution_count": null,
   "metadata": {},
   "outputs": [],
   "source": [
    "bs = 22\n",
    "\n",
    "model = EfficientNet.from_pretrained('efficientnet-b5',num_classes=1)\n",
    "\n",
    "\n",
    "tfms = ([crop_pad(),rotate(degrees=360.),*zoom_crop(scale=(1,1.4), do_rand=True),\n",
    "         contrast(scale=(0.75,1.5)),flip_lr(p=0.5)],[crop_pad()])\n",
    "         \n",
    "\n",
    "                                                            \n",
    "data = (ImageList.from_df(df=df1,path='./',cols='path') \n",
    "        .split_by_rand_pct(0.1,seed=1)\n",
    "        .label_from_df(cols='diagnosis',label_cls=FloatList)\n",
    "        .transform(tfms,padding_mode='border') \n",
    "        .databunch(bs=bs,num_workers=6) \n",
    "        .normalize(imagenet_stats)  \n",
    "       )"
   ]
  },
  {
   "cell_type": "code",
   "execution_count": null,
   "metadata": {},
   "outputs": [],
   "source": [
    "learn = Learner(data,\n",
    "                model,\n",
    "                loss_func=nn.MSELoss(),\n",
    "                metrics = [accuracy_met,kappa_score],\n",
    "                callback_fns = ShowGraph,\n",
    "                model_dir=\"weights\")"
   ]
  }
 ],
 "metadata": {
  "kernelspec": {
   "display_name": "Python 3",
   "language": "python",
   "name": "python3"
  },
  "language_info": {
   "codemirror_mode": {
    "name": "ipython",
    "version": 3
   },
   "file_extension": ".py",
   "mimetype": "text/x-python",
   "name": "python",
   "nbconvert_exporter": "python",
   "pygments_lexer": "ipython3",
   "version": "3.6.9"
  }
 },
 "nbformat": 4,
 "nbformat_minor": 2
}
